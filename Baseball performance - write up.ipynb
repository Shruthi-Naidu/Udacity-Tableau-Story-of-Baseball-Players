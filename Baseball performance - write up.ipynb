{
 "cells": [
  {
   "cell_type": "markdown",
   "metadata": {},
   "source": [
    "<h1><center>Tableau Story - Baseball Players</center></h1>\n",
    "\n",
    "A Data visualization using Tableau that tells a story about on factors that contribute to the performance of players and hence the team.\n",
    "\n",
    "### Introduction\n",
    "\n",
    "Here an explanatory data visualization is created from a baseball data set that communicates the findings about the relationships or patterns in the provided data. Tableau framework has been used to create the visualization and find new insights about the performance of the baseball players.\n",
    "\n",
    "[Initial Visualization](https://public.tableau.com/profile/shruthi3604#!/vizhome/BaseballPerformance_InitialVisualization/Story1?publish=yes)\n",
    "\n",
    "[Final Visualization](https://public.tableau.com/profile/shruthi3604#!/vizhome/BaseballPerformance_FinalVisualization_0/Story2?publish=yes)\n",
    "\n",
    "### Summary\n",
    "\n",
    "While making this story,  various Tableau techniques were used to create different visualization to better represent Baseball data. Many relationships have been explored to see variations in performances within the factors such as Batting Average and Height and Weight. A new variable named HT/WT ratio was created and used to explore new insights.\n",
    "\n",
    "In conclusion, it was found that a player weighing aproximatly 180 or 195 pounds and having height around 72 0r 73 inches is predicted to perform better than other players under the same conditions. The handedness of the player does not effect the above findings.\n",
    "\n",
    "### Design\n",
    "\n",
    "-  A new variable HT/WT ratio is created by dividing height and weight.\n",
    "-  Factor like HT/WT ratio, handedness of the player (right, left, both) is investigated to find how they affect Batting Average and Home Runs. \n",
    "-  Mostly Bar charts are used for visualizations. \n",
    "-  After getting feedback from friends, made visualization clear and descriptive.\n",
    "\n",
    "### Feedback\n",
    "\n",
    "-  Did not understand the meaning of HR, Avg\n",
    "        I fixed it ny abbrevating HR to Home Runs adn Avg to Bat Avg\n",
    "-  Visualization not properly described in public profile\n",
    "        What is the story about? title?\n",
    "-  Story did not have title!\n",
    "        It was hard for the reviewer to understand the dashboard as graphs did not have tilte. I fixed it by adding title to all dashboards\n",
    "-  Name your axis properly\n",
    "        Add descriptive meaning not just technical.\n",
    "- Reviewer was not convinced with my story that only handedness of the player affects player's performace!\n",
    "        I re-thought my story and added a new variable HT/WT ratio to see if and how they affect players performance. Intrestingly, height and weight ratio had significant affect on Home runs and bat ang as compared to only handedness of the player. Infact, handedness of the player didn't change player's performace much at all.\n",
    "        \n",
    "### Resources\n",
    "\n",
    "-  Jupyter Notebook\n",
    "-  Youtube\n",
    "-  Google search engine\n",
    "-  Slack\n",
    "-  Udacity's study group"
   ]
  }
 ],
 "metadata": {
  "kernelspec": {
   "display_name": "Python [default]",
   "language": "python",
   "name": "python3"
  },
  "language_info": {
   "codemirror_mode": {
    "name": "ipython",
    "version": 3
   },
   "file_extension": ".py",
   "mimetype": "text/x-python",
   "name": "python",
   "nbconvert_exporter": "python",
   "pygments_lexer": "ipython3",
   "version": "3.6.4"
  }
 },
 "nbformat": 4,
 "nbformat_minor": 2
}
